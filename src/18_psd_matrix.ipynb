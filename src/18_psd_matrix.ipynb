{
 "cells": [
  {
   "cell_type": "code",
   "execution_count": null,
   "id": "94b3abc1",
   "metadata": {},
   "outputs": [],
   "source": [
    "# title: Download asset (data frame) from GEE\n",
    "# author: Alessandro Samuel-Rosa, Taciara Zborowski Horst\n",
    "# description: This script downloads a data frame from Google Earth Engine (GEE) and saves it as a\n",
    "# CSV file in the \"data\" directory.\n",
    "# date: 2025-04-25\n",
    "\n",
    "# Load required libraries\n",
    "import ee\n",
    "import ee.batch\n",
    "\n",
    "# Initialize the Earth Engine API\n",
    "ee.Authenticate()\n",
    "ee.Initialize(project='mapbiomas-solos-workspace')"
   ]
  },
  {
   "cell_type": "code",
   "execution_count": 6,
   "id": "af1b3451",
   "metadata": {},
   "outputs": [
    {
     "name": "stdout",
     "output_type": "stream",
     "text": [
      "Export task started. Check Google Drive for file.\n",
      "{'state': 'READY', 'description': 'psd_c02beta_00_10cm_v2', 'priority': 100, 'creation_timestamp_ms': 1745635147289, 'update_timestamp_ms': 1745635147289, 'start_timestamp_ms': 0, 'task_type': 'EXPORT_FEATURES', 'id': '3E6Y67WO7X223ELN2F7UYJGI', 'name': 'projects/mapbiomas-solos-workspace/operations/3E6Y67WO7X223ELN2F7UYJGI'}\n"
     ]
    }
   ],
   "source": [
    "# psd_c02beta_00_10cm_v2\n",
    "fc = ee.FeatureCollection('projects/mapbiomas-workspace/SOLOS/AMOSTRAS/MATRIZES/granulometry/psd_c02beta_00_10cm_v2')\n",
    "task = ee.batch.Export.table.toDrive(\n",
    "    collection=fc,\n",
    "    description='psd_c02beta_00_10cm_v2',\n",
    "    folder='Earth Engine Exports',\n",
    "    fileNamePrefix='psd_c02beta_00_10cm_v2',\n",
    "    fileFormat='CSV'\n",
    ")\n",
    "task.start()\n",
    "print(f\"Export task started. Check Google Drive for file.\")\n",
    "print(task.status())"
   ]
  }
 ],
 "metadata": {
  "kernelspec": {
   "display_name": "geemap",
   "language": "python",
   "name": "python3"
  },
  "language_info": {
   "codemirror_mode": {
    "name": "ipython",
    "version": 3
   },
   "file_extension": ".py",
   "mimetype": "text/x-python",
   "name": "python",
   "nbconvert_exporter": "python",
   "pygments_lexer": "ipython3",
   "version": "3.10.12"
  }
 },
 "nbformat": 4,
 "nbformat_minor": 5
}

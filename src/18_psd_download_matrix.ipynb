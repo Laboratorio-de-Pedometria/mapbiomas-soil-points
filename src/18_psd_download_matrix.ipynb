{
 "cells": [
  {
   "cell_type": "markdown",
   "id": "0671a9c6",
   "metadata": {},
   "source": [
    "# Download soil particle size design matrix asset (data frame) from GEE\n",
    "\n",
    "Alessandro Samuel-Rosa, Taciara Zborowski Horst\n",
    "\n",
    "2024-05-26\n",
    "\n",
    "This script exports the soil Particle Size Distribution (PSD) design matrix from Google Earth Engine\n",
    "(GEE) to Google Drive as a CSV file in the \"Earth Engine Exports\" directory.\n",
    "\n",
    "License: MIT"
   ]
  },
  {
   "cell_type": "code",
   "execution_count": null,
   "id": "94b3abc1",
   "metadata": {},
   "outputs": [],
   "source": [
    "# Load required libraries\n",
    "import ee\n",
    "import ee.batch\n",
    "\n",
    "# Initialize the Earth Engine API\n",
    "ee.Authenticate()\n",
    "ee.Initialize(project='mapbiomas-solos-workspace')"
   ]
  },
  {
   "cell_type": "code",
   "execution_count": null,
   "id": "af1b3451",
   "metadata": {},
   "outputs": [
    {
     "name": "stdout",
     "output_type": "stream",
     "text": [
      "Export task started. Check Google Drive for file.\n",
      "{'state': 'READY', 'description': 'psd_c02beta_00_10cm_v2', 'priority': 100, 'creation_timestamp_ms': 1745635147289, 'update_timestamp_ms': 1745635147289, 'start_timestamp_ms': 0, 'task_type': 'EXPORT_FEATURES', 'id': '3E6Y67WO7X223ELN2F7UYJGI', 'name': 'projects/mapbiomas-solos-workspace/operations/3E6Y67WO7X223ELN2F7UYJGI'}\n"
     ]
    }
   ],
   "source": [
    "# psd_c02beta_00_10cm_v2\n",
    "fc_path = 'projects/mapbiomas-workspace/SOLOS/AMOSTRAS/MATRIZES/granulometry/psd_c02beta_00_10cm_v2'\n",
    "fc = ee.FeatureCollection(fc_path)\n",
    "task = ee.batch.Export.table.toDrive(\n",
    "    collection=fc,\n",
    "    description='ASR Export psd_c02beta_00_10cm_v2 to Drive',\n",
    "    folder='Earth Engine Exports',\n",
    "    fileNamePrefix='psd_c02beta_00_10cm_v2',\n",
    "    fileFormat='CSV'\n",
    ")\n",
    "task.start()\n",
    "print(f\"Export task started. Check Google Drive for file.\")\n",
    "print(task.status())"
   ]
  }
 ],
 "metadata": {
  "kernelspec": {
   "display_name": "geemap",
   "language": "python",
   "name": "python3"
  },
  "language_info": {
   "codemirror_mode": {
    "name": "ipython",
    "version": 3
   },
   "file_extension": ".py",
   "mimetype": "text/x-python",
   "name": "python",
   "nbconvert_exporter": "python",
   "pygments_lexer": "ipython3",
   "version": "3.10.12"
  }
 },
 "nbformat": 4,
 "nbformat_minor": 5
}

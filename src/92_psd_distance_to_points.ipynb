{
 "cells": [
  {
   "cell_type": "code",
   "execution_count": 1,
   "id": "bb1ca6e5",
   "metadata": {},
   "outputs": [],
   "source": [
    "import ee\n",
    "import math\n",
    "import geemap # Assuming geemap is installed\n",
    "\n",
    "# --- Configuration ---\n",
    "GCP_PROJECT = 'mapbiomas-solos-workspace'\n",
    "AOI_ASSET_ID = 'projects/mapbiomas-workspace/AUXILIAR/brasil_2km'\n",
    "SOIL_SAMPLES_ID = 'projects/mapbiomas-workspace/SOLOS/AMOSTRAS/MATRIZES/granulometry/matriz-v010_0_10cm'\n",
    "MAPBIOMAS_COLLECTION_ID = 'projects/mapbiomas-workspace/COLECAO9/integracao'\n",
    "OUTPUT_SCALE = 30  # meters\n",
    "MAX_DISTANCE_METERS = 200000 # 200 km (Adjust if needed for visualization range)\n",
    "\n"
   ]
  },
  {
   "cell_type": "code",
   "execution_count": 2,
   "id": "9dc6f1b9",
   "metadata": {},
   "outputs": [
    {
     "data": {
      "text/html": [
       "\n",
       "            <style>\n",
       "                .geemap-dark {\n",
       "                    --jp-widgets-color: white;\n",
       "                    --jp-widgets-label-color: white;\n",
       "                    --jp-ui-font-color1: white;\n",
       "                    --jp-layout-color2: #454545;\n",
       "                    background-color: #383838;\n",
       "                }\n",
       "\n",
       "                .geemap-dark .jupyter-button {\n",
       "                    --jp-layout-color3: #383838;\n",
       "                }\n",
       "\n",
       "                .geemap-colab {\n",
       "                    background-color: var(--colab-primary-surface-color, white);\n",
       "                }\n",
       "\n",
       "                .geemap-colab .jupyter-button {\n",
       "                    --jp-layout-color3: var(--colab-primary-surface-color, white);\n",
       "                }\n",
       "            </style>\n",
       "            "
      ],
      "text/plain": [
       "<IPython.core.display.HTML object>"
      ]
     },
     "metadata": {},
     "output_type": "display_data"
    },
    {
     "name": "stdout",
     "output_type": "stream",
     "text": [
      "EE initialized with project: mapbiomas-solos-workspace\n"
     ]
    }
   ],
   "source": [
    "# --- 1. Initialize Earth Engine ---\n",
    "ee.Initialize(project=GCP_PROJECT)\n",
    "print(f\"EE initialized with project: {GCP_PROJECT}\")"
   ]
  },
  {
   "cell_type": "code",
   "execution_count": 3,
   "id": "ee71a4ec",
   "metadata": {},
   "outputs": [
    {
     "data": {
      "text/html": [
       "\n",
       "            <style>\n",
       "                .geemap-dark {\n",
       "                    --jp-widgets-color: white;\n",
       "                    --jp-widgets-label-color: white;\n",
       "                    --jp-ui-font-color1: white;\n",
       "                    --jp-layout-color2: #454545;\n",
       "                    background-color: #383838;\n",
       "                }\n",
       "\n",
       "                .geemap-dark .jupyter-button {\n",
       "                    --jp-layout-color3: #383838;\n",
       "                }\n",
       "\n",
       "                .geemap-colab {\n",
       "                    background-color: var(--colab-primary-surface-color, white);\n",
       "                }\n",
       "\n",
       "                .geemap-colab .jupyter-button {\n",
       "                    --jp-layout-color3: var(--colab-primary-surface-color, white);\n",
       "                }\n",
       "            </style>\n",
       "            "
      ],
      "text/plain": [
       "<IPython.core.display.HTML object>"
      ]
     },
     "metadata": {},
     "output_type": "display_data"
    },
    {
     "name": "stdout",
     "output_type": "stream",
     "text": [
      "Loading AOI: projects/mapbiomas-workspace/AUXILIAR/brasil_2km\n"
     ]
    }
   ],
   "source": [
    "# --- 2. Define Area of Interest ---\n",
    "print(f\"Loading AOI: {AOI_ASSET_ID}\")\n",
    "aoi_asset = ee.FeatureCollection(AOI_ASSET_ID)\n",
    "aoi_geometry = aoi_asset.union(1) # Merge features into a single geometry"
   ]
  },
  {
   "cell_type": "code",
   "execution_count": 4,
   "id": "35cec958",
   "metadata": {},
   "outputs": [
    {
     "data": {
      "text/html": [
       "\n",
       "            <style>\n",
       "                .geemap-dark {\n",
       "                    --jp-widgets-color: white;\n",
       "                    --jp-widgets-label-color: white;\n",
       "                    --jp-ui-font-color1: white;\n",
       "                    --jp-layout-color2: #454545;\n",
       "                    background-color: #383838;\n",
       "                }\n",
       "\n",
       "                .geemap-dark .jupyter-button {\n",
       "                    --jp-layout-color3: #383838;\n",
       "                }\n",
       "\n",
       "                .geemap-colab {\n",
       "                    background-color: var(--colab-primary-surface-color, white);\n",
       "                }\n",
       "\n",
       "                .geemap-colab .jupyter-button {\n",
       "                    --jp-layout-color3: var(--colab-primary-surface-color, white);\n",
       "                }\n",
       "            </style>\n",
       "            "
      ],
      "text/plain": [
       "<IPython.core.display.HTML object>"
      ]
     },
     "metadata": {},
     "output_type": "display_data"
    },
    {
     "name": "stdout",
     "output_type": "stream",
     "text": [
      "Loading Soil Samples: projects/mapbiomas-workspace/SOLOS/AMOSTRAS/MATRIZES/granulometry/matriz-v010_0_10cm\n",
      "Found and filtered 19864 points within AOI.\n",
      "\n",
      "Preparing visualization of filtered points on AOI...\n",
      "Displaying filtered points map...\n"
     ]
    },
    {
     "data": {
      "application/vnd.jupyter.widget-view+json": {
       "model_id": "4687821a0a474c25a91f092d6b11d710",
       "version_major": 2,
       "version_minor": 0
      },
      "text/plain": [
       "Map(center=[-10.62347807211283, -53.19353084531423], controls=(WidgetControl(options=['position', 'transparent…"
      ]
     },
     "metadata": {},
     "output_type": "display_data"
    },
    {
     "name": "stdout",
     "output_type": "stream",
     "text": [
      "--- End of points visualization ---\n"
     ]
    }
   ],
   "source": [
    "# --- 3. Load and Filter Soil Samples ---\n",
    "print(f\"Loading Soil Samples: {SOIL_SAMPLES_ID}\")\n",
    "soil_points_all = ee.FeatureCollection(SOIL_SAMPLES_ID)\n",
    "soil_points = soil_points_all.filterBounds(aoi_geometry)\n",
    "point_count = soil_points.size().getInfo() # Get count after filtering\n",
    "print(f\"Found and filtered {point_count} points within AOI.\")\n",
    "\n",
    "# --- 3b. Visualize Filtered Points ---\n",
    "if point_count > 0:\n",
    "    print(\"\\nPreparing visualization of filtered points on AOI...\")\n",
    "    Map_points = geemap.Map()\n",
    "    Map_points.centerObject(aoi_geometry, 5) # Center on AOI\n",
    "    Map_points.addLayer(ee.Image().paint(aoi_geometry, 0, 2), {'palette': '000000'}, 'AOI Boundary')\n",
    "    Map_points.addLayer(soil_points, {'color': '0000FF', 'pointSize': 1}, 'Filtered Soil Samples')\n",
    "    Map_points.addLayerControl()\n",
    "    print(\"Displaying filtered points map...\")\n",
    "    display(Map_points)\n",
    "    print(\"--- End of points visualization ---\")\n",
    "else:\n",
    "    print(\"\\nSkipping points visualization as no points were found within the AOI.\")\n",
    "\n",
    "\n",
    "# --- Add constant property (only if points exist) ---\n",
    "if point_count > 0:\n",
    "    def add_constant(feat):\n",
    "      return feat.set({'constant': 1})\n",
    "    soil_points_with_constant = soil_points.map(add_constant)\n",
    "else:\n",
    "    soil_points_with_constant = ee.FeatureCollection([])"
   ]
  },
  {
   "cell_type": "code",
   "execution_count": 5,
   "id": "982230c6",
   "metadata": {},
   "outputs": [
    {
     "data": {
      "text/html": [
       "\n",
       "            <style>\n",
       "                .geemap-dark {\n",
       "                    --jp-widgets-color: white;\n",
       "                    --jp-widgets-label-color: white;\n",
       "                    --jp-ui-font-color1: white;\n",
       "                    --jp-layout-color2: #454545;\n",
       "                    background-color: #383838;\n",
       "                }\n",
       "\n",
       "                .geemap-dark .jupyter-button {\n",
       "                    --jp-layout-color3: #383838;\n",
       "                }\n",
       "\n",
       "                .geemap-colab {\n",
       "                    background-color: var(--colab-primary-surface-color, white);\n",
       "                }\n",
       "\n",
       "                .geemap-colab .jupyter-button {\n",
       "                    --jp-layout-color3: var(--colab-primary-surface-color, white);\n",
       "                }\n",
       "            </style>\n",
       "            "
      ],
      "text/plain": [
       "<IPython.core.display.HTML object>"
      ]
     },
     "metadata": {},
     "output_type": "display_data"
    },
    {
     "name": "stdout",
     "output_type": "stream",
     "text": [
      "\n",
      "Getting projection from MapBiomas Collection 9: projects/mapbiomas-workspace/COLECAO9/integracao\n",
      "Target CRS from Collection 9: EPSG:4326\n"
     ]
    }
   ],
   "source": [
    "# --- 4. Get Target Projection ---\n",
    "print(f\"\\nGetting projection from MapBiomas Collection 9: {MAPBIOMAS_COLLECTION_ID}\")\n",
    "# Load the collection and get the first image to extract projection\n",
    "# Note: Ensure this asset ID points to an Image or ImageCollection\n",
    "mapbiomas_ref_image = ee.ImageCollection(MAPBIOMAS_COLLECTION_ID).first()\n",
    "# Check if the reference image loaded successfully\n",
    "if mapbiomas_ref_image is None:\n",
    "     print(f\"ERROR: Could not load reference image from {MAPBIOMAS_COLLECTION_ID}. Check asset ID and permissions.\")\n",
    "     # Handle error - maybe exit or try a fallback CRS\n",
    "     target_crs = 'EPSG:4326' # Fallback CRS\n",
    "     print(f\"Warning: Using fallback CRS: {target_crs}\")\n",
    "else:\n",
    "    target_crs = mapbiomas_ref_image.projection().crs()\n",
    "    print(f\"Target CRS from Collection 9: {target_crs.getInfo()}\")\n"
   ]
  },
  {
   "cell_type": "code",
   "execution_count": 7,
   "id": "265cec8e",
   "metadata": {},
   "outputs": [
    {
     "data": {
      "text/html": [
       "\n",
       "            <style>\n",
       "                .geemap-dark {\n",
       "                    --jp-widgets-color: white;\n",
       "                    --jp-widgets-label-color: white;\n",
       "                    --jp-ui-font-color1: white;\n",
       "                    --jp-layout-color2: #454545;\n",
       "                    background-color: #383838;\n",
       "                }\n",
       "\n",
       "                .geemap-dark .jupyter-button {\n",
       "                    --jp-layout-color3: #383838;\n",
       "                }\n",
       "\n",
       "                .geemap-colab {\n",
       "                    background-color: var(--colab-primary-surface-color, white);\n",
       "                }\n",
       "\n",
       "                .geemap-colab .jupyter-button {\n",
       "                    --jp-layout-color3: var(--colab-primary-surface-color, white);\n",
       "                }\n",
       "            </style>\n",
       "            "
      ],
      "text/plain": [
       "<IPython.core.display.HTML object>"
      ]
     },
     "metadata": {},
     "output_type": "display_data"
    },
    {
     "name": "stdout",
     "output_type": "stream",
     "text": [
      "Rasterizing points...\n",
      "Rasterization complete.\n",
      "Rasterized image info: {'type': 'Image', 'bands': [{'id': 'sum', 'data_type': {'type': 'PixelType', 'precision': 'int', 'min': 0, 'max': 1}, 'crs': 'EPSG:4326', 'crs_transform': [0.00026949458523585647, 0, 0, 0, -0.00026949458523585647, 0]}]}\n",
      "Displaying rasterized points map...\n"
     ]
    },
    {
     "data": {
      "application/vnd.jupyter.widget-view+json": {
       "model_id": "891a3349149d4ec2b4866ffacd4588bb",
       "version_major": 2,
       "version_minor": 0
      },
      "text/plain": [
       "Map(center=[-10.62347807211283, -53.19353084531423], controls=(WidgetControl(options=['position', 'transparent…"
      ]
     },
     "metadata": {},
     "output_type": "display_data"
    },
    {
     "name": "stdout",
     "output_type": "stream",
     "text": [
      "--- End of rasterized points visualization ---\n"
     ]
    }
   ],
   "source": [
    "# --- 5. Prepare Image for Distance Calculation ---\n",
    "if point_count > 0:\n",
    "    print(\"Rasterizing points...\")\n",
    "    point_presence_image = soil_points_with_constant.reduceToImage(\n",
    "        properties=['constant'],\n",
    "        reducer=ee.Reducer.sum().unweighted()\n",
    "    ).reproject(\n",
    "        crs=target_crs, # Use projection from Collection 9\n",
    "        scale=OUTPUT_SCALE\n",
    "    ).unmask(0)\n",
    "    source_image = point_presence_image.gt(0).Not()\n",
    "    print(\"Rasterization complete.\")\n",
    "# Print information about the rasterized image\n",
    "print(f\"Rasterized image info: {source_image.getInfo()}\")\n",
    "# Plot the rasterized image\n",
    "Map_raster = geemap.Map()\n",
    "Map_raster.centerObject(aoi_geometry, 5) # Center on AOI\n",
    "Map_raster.addLayer(source_image.clip(aoi_geometry), {'palette': '0000FF'}, 'Rasterized Points')\n",
    "Map_raster.addLayerControl()\n",
    "print(\"Displaying rasterized points map...\")\n",
    "display(Map_raster)\n",
    "print(\"--- End of rasterized points visualization ---\")"
   ]
  },
  {
   "cell_type": "code",
   "execution_count": null,
   "id": "a58cf282",
   "metadata": {},
   "outputs": [
    {
     "data": {
      "text/html": [
       "\n",
       "            <style>\n",
       "                .geemap-dark {\n",
       "                    --jp-widgets-color: white;\n",
       "                    --jp-widgets-label-color: white;\n",
       "                    --jp-ui-font-color1: white;\n",
       "                    --jp-layout-color2: #454545;\n",
       "                    background-color: #383838;\n",
       "                }\n",
       "\n",
       "                .geemap-dark .jupyter-button {\n",
       "                    --jp-layout-color3: #383838;\n",
       "                }\n",
       "\n",
       "                .geemap-colab {\n",
       "                    background-color: var(--colab-primary-surface-color, white);\n",
       "                }\n",
       "\n",
       "                .geemap-colab .jupyter-button {\n",
       "                    --jp-layout-color3: var(--colab-primary-surface-color, white);\n",
       "                }\n",
       "            </style>\n",
       "            "
      ],
      "text/plain": [
       "<IPython.core.display.HTML object>"
      ]
     },
     "metadata": {},
     "output_type": "display_data"
    },
    {
     "name": "stdout",
     "output_type": "stream",
     "text": [
      "Calculating distance to nearest neighbor...\n",
      "\n",
      "--- Info about 'distance_image' (before clipping) ---\n",
      "Band Names: ['distance']\n",
      "Expected CRS: (Matches target_crs from Step 4)\n",
      "Expected Scale (meters): 30\n",
      "----------------------------------------------------\n"
     ]
    }
   ],
   "source": [
    "# --- 6. Calculate Distance ---\n",
    "print(\"Calculating distance to nearest neighbor...\")\n",
    "neighborhood_pixels = math.ceil(MAX_DISTANCE_METERS / OUTPUT_SCALE)\n",
    "distance_image_multiband = source_image.fastDistanceTransform(\n",
    "    neighborhood=neighborhood_pixels,\n",
    "    units='meters'\n",
    ")\n",
    "distance_image = distance_image_multiband.select('distance')\n",
    "\n",
    "# *** PRINT INFO ABOUT distance_image (NEW) ***\n",
    "print(\"\\n--- Info about 'distance_image' (before clipping) ---\")\n",
    "try:\n",
    "    band_names = distance_image.bandNames().getInfo()\n",
    "    print(f\"Band Names: {band_names}\")\n",
    "    # The projection *should* match target_crs used in reproject before fastDistanceTransform\n",
    "    print(f\"Expected CRS: (Matches target_crs from Step 4)\")\n",
    "    print(f\"Expected Scale (meters): {OUTPUT_SCALE}\")\n",
    "    # Note: Getting exact projection/scale info with .projection().getInfo() can be slow\n",
    "    # and might trigger errors if the image is complex, so we state expectations.\n",
    "except Exception as e:\n",
    "    print(f\"Could not retrieve full info: {e}\")\n",
    "print(\"----------------------------------------------------\")\n",
    "# *** END PRINT INFO ***"
   ]
  },
  {
   "cell_type": "code",
   "execution_count": 49,
   "id": "5c9909c5",
   "metadata": {},
   "outputs": [
    {
     "data": {
      "text/html": [
       "\n",
       "            <style>\n",
       "                .geemap-dark {\n",
       "                    --jp-widgets-color: white;\n",
       "                    --jp-widgets-label-color: white;\n",
       "                    --jp-ui-font-color1: white;\n",
       "                    --jp-layout-color2: #454545;\n",
       "                    background-color: #383838;\n",
       "                }\n",
       "\n",
       "                .geemap-dark .jupyter-button {\n",
       "                    --jp-layout-color3: #383838;\n",
       "                }\n",
       "\n",
       "                .geemap-colab {\n",
       "                    background-color: var(--colab-primary-surface-color, white);\n",
       "                }\n",
       "\n",
       "                .geemap-colab .jupyter-button {\n",
       "                    --jp-layout-color3: var(--colab-primary-surface-color, white);\n",
       "                }\n",
       "            </style>\n",
       "            "
      ],
      "text/plain": [
       "<IPython.core.display.HTML object>"
      ]
     },
     "metadata": {},
     "output_type": "display_data"
    },
    {
     "name": "stdout",
     "output_type": "stream",
     "text": [
      "Clipping result to AOI...\n"
     ]
    }
   ],
   "source": [
    "# --- 7. Clip Result ---\n",
    "print(\"Clipping result to AOI...\")\n",
    "distance_image_clipped = distance_image.clip(aoi_geometry)"
   ]
  },
  {
   "cell_type": "code",
   "execution_count": 46,
   "id": "37536c00",
   "metadata": {},
   "outputs": [
    {
     "data": {
      "text/html": [
       "\n",
       "            <style>\n",
       "                .geemap-dark {\n",
       "                    --jp-widgets-color: white;\n",
       "                    --jp-widgets-label-color: white;\n",
       "                    --jp-ui-font-color1: white;\n",
       "                    --jp-layout-color2: #454545;\n",
       "                    background-color: #383838;\n",
       "                }\n",
       "\n",
       "                .geemap-dark .jupyter-button {\n",
       "                    --jp-layout-color3: #383838;\n",
       "                }\n",
       "\n",
       "                .geemap-colab {\n",
       "                    background-color: var(--colab-primary-surface-color, white);\n",
       "                }\n",
       "\n",
       "                .geemap-colab .jupyter-button {\n",
       "                    --jp-layout-color3: var(--colab-primary-surface-color, white);\n",
       "                }\n",
       "            </style>\n",
       "            "
      ],
      "text/plain": [
       "<IPython.core.display.HTML object>"
      ]
     },
     "metadata": {},
     "output_type": "display_data"
    },
    {
     "name": "stdout",
     "output_type": "stream",
     "text": [
      "\n",
      "Preparing final DNN map visualization...\n",
      "Visualizing distances from 0 to 200000 meters.\n",
      "Displaying final DNN map...\n"
     ]
    },
    {
     "data": {
      "application/vnd.jupyter.widget-view+json": {
       "model_id": "df8ce906781f4f8198ec9ac911b99e21",
       "version_major": 2,
       "version_minor": 0
      },
      "text/plain": [
       "Map(center=[-10.62347807211283, -53.19353084531423], controls=(WidgetControl(options=['position', 'transparent…"
      ]
     },
     "metadata": {},
     "output_type": "display_data"
    }
   ],
   "source": [
    "# --- 8. Visualize DNN Map ---\n",
    "\n",
    "# Ensure geemap is imported if running this block standalone\n",
    "import geemap\n",
    "\n",
    "# Check if distance_image_clipped likely exists before trying to visualize\n",
    "# (Assumes it was calculated in prior steps if point_count > 0)\n",
    "if 'distance_image_clipped' in locals():\n",
    "    print(\"\\nPreparing final DNN map visualization...\")\n",
    "    # Create a new map object for the final result\n",
    "    Map_dnn = geemap.Map()\n",
    "    # Center the map on the Area of Interest\n",
    "    Map_dnn.centerObject(aoi_geometry, 5)\n",
    "\n",
    "    # Define visualization parameters for the distance map\n",
    "    dnn_vis_params = {\n",
    "      'min': 0,\n",
    "      # Use the configured max distance for the color scale limit\n",
    "      'max': MAX_DISTANCE_METERS,\n",
    "      # Define the color palette (e.g., blue=near, red=far)\n",
    "      'palette': ['0000FF', '00FFFF', 'FFFF00', 'FF0000']\n",
    "    }\n",
    "    print(f\"Visualizing distances from 0 to {dnn_vis_params['max']} meters.\")\n",
    "\n",
    "    # Add the calculated distance layer to the map\n",
    "    Map_dnn.addLayer(\n",
    "        distance_image_clipped,\n",
    "        dnn_vis_params,\n",
    "        f'Distance to Nearest Soil Sample (m)' # Layer name\n",
    "    )\n",
    "    # Add the AOI boundary outline for context\n",
    "    Map_dnn.addLayer(\n",
    "        ee.Image().paint(aoi_geometry, 0, 2), # Paint outline\n",
    "        {'palette': '000000'}, # Black color for outline\n",
    "        'AOI Boundary' # Layer name\n",
    "    )\n",
    "    # Add map layer controls (optional)\n",
    "    Map_dnn.addLayerControl()\n",
    "\n",
    "    # Display the map in the Jupyter Notebook output\n",
    "    print(\"Displaying final DNN map...\")\n",
    "    display(Map_dnn)\n",
    "\n",
    "else:\n",
    "    # This part would typically execute if point_count was 0 in the full script\n",
    "    print(\"\\nSkipping DNN map visualization because the distance image was not generated (likely no input points found).\")"
   ]
  }
 ],
 "metadata": {
  "kernelspec": {
   "display_name": "geemap",
   "language": "python",
   "name": "python3"
  },
  "language_info": {
   "codemirror_mode": {
    "name": "ipython",
    "version": 3
   },
   "file_extension": ".py",
   "mimetype": "text/x-python",
   "name": "python",
   "nbconvert_exporter": "python",
   "pygments_lexer": "ipython3",
   "version": "3.10.12"
  }
 },
 "nbformat": 4,
 "nbformat_minor": 5
}

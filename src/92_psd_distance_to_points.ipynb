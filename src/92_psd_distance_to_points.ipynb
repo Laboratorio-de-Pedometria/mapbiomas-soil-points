{
 "cells": [
  {
   "cell_type": "code",
   "execution_count": 12,
   "id": "bb1ca6e5",
   "metadata": {},
   "outputs": [
    {
     "data": {
      "text/html": [
       "\n",
       "            <style>\n",
       "                .geemap-dark {\n",
       "                    --jp-widgets-color: white;\n",
       "                    --jp-widgets-label-color: white;\n",
       "                    --jp-ui-font-color1: white;\n",
       "                    --jp-layout-color2: #454545;\n",
       "                    background-color: #383838;\n",
       "                }\n",
       "\n",
       "                .geemap-dark .jupyter-button {\n",
       "                    --jp-layout-color3: #383838;\n",
       "                }\n",
       "\n",
       "                .geemap-colab {\n",
       "                    background-color: var(--colab-primary-surface-color, white);\n",
       "                }\n",
       "\n",
       "                .geemap-colab .jupyter-button {\n",
       "                    --jp-layout-color3: var(--colab-primary-surface-color, white);\n",
       "                }\n",
       "            </style>\n",
       "            "
      ],
      "text/plain": [
       "<IPython.core.display.HTML object>"
      ]
     },
     "metadata": {},
     "output_type": "display_data"
    },
    {
     "name": "stdout",
     "output_type": "stream",
     "text": [
      "Using Target CRS for calculations: EPSG:5880 (Projected, Meters)\n"
     ]
    }
   ],
   "source": [
    "import ee\n",
    "import math\n",
    "import geemap # Assuming geemap is installed\n",
    "\n",
    "# --- Configuration ---\n",
    "GCP_PROJECT = 'mapbiomas-solos-workspace'\n",
    "AOI_ASSET_ID = 'projects/mapbiomas-workspace/AUXILIAR/brasil_2km'\n",
    "SOIL_SAMPLES_ID = 'projects/mapbiomas-workspace/SOLOS/AMOSTRAS/MATRIZES/granulometry/matriz-v010_0_10cm'\n",
    "# MAPBIOMAS_COLLECTION_ID = 'projects/mapbiomas-workspace/COLECAO9/integracao' # No longer needed for CRS\n",
    "OUTPUT_SCALE = 30  # meters\n",
    "MAX_DISTANCE_METERS = 200000 # 200 km (Adjust if needed)\n",
    "\n",
    "# *** DEFINE TARGET PROJECTED CRS for calculations ***\n",
    "# Using SIRGAS 2000 / Brazil Polyconic (EPSG:5880) - Projected CRS in Meters\n",
    "# This is chosen because EPSG:4326 is unsuitable for meter-based scale/distance calculations.\n",
    "TARGET_CRS = 'EPSG:5880'\n",
    "print(f\"Using Target CRS for calculations: {TARGET_CRS} (Projected, Meters)\")"
   ]
  },
  {
   "cell_type": "code",
   "execution_count": 13,
   "id": "9dc6f1b9",
   "metadata": {},
   "outputs": [
    {
     "data": {
      "text/html": [
       "\n",
       "            <style>\n",
       "                .geemap-dark {\n",
       "                    --jp-widgets-color: white;\n",
       "                    --jp-widgets-label-color: white;\n",
       "                    --jp-ui-font-color1: white;\n",
       "                    --jp-layout-color2: #454545;\n",
       "                    background-color: #383838;\n",
       "                }\n",
       "\n",
       "                .geemap-dark .jupyter-button {\n",
       "                    --jp-layout-color3: #383838;\n",
       "                }\n",
       "\n",
       "                .geemap-colab {\n",
       "                    background-color: var(--colab-primary-surface-color, white);\n",
       "                }\n",
       "\n",
       "                .geemap-colab .jupyter-button {\n",
       "                    --jp-layout-color3: var(--colab-primary-surface-color, white);\n",
       "                }\n",
       "            </style>\n",
       "            "
      ],
      "text/plain": [
       "<IPython.core.display.HTML object>"
      ]
     },
     "metadata": {},
     "output_type": "display_data"
    },
    {
     "name": "stdout",
     "output_type": "stream",
     "text": [
      "EE initialized with project: mapbiomas-solos-workspace\n"
     ]
    }
   ],
   "source": [
    "# --- 1. Initialize Earth Engine ---\n",
    "ee.Initialize(project=GCP_PROJECT)\n",
    "print(f\"EE initialized with project: {GCP_PROJECT}\")"
   ]
  },
  {
   "cell_type": "code",
   "execution_count": 14,
   "id": "ee71a4ec",
   "metadata": {},
   "outputs": [
    {
     "data": {
      "text/html": [
       "\n",
       "            <style>\n",
       "                .geemap-dark {\n",
       "                    --jp-widgets-color: white;\n",
       "                    --jp-widgets-label-color: white;\n",
       "                    --jp-ui-font-color1: white;\n",
       "                    --jp-layout-color2: #454545;\n",
       "                    background-color: #383838;\n",
       "                }\n",
       "\n",
       "                .geemap-dark .jupyter-button {\n",
       "                    --jp-layout-color3: #383838;\n",
       "                }\n",
       "\n",
       "                .geemap-colab {\n",
       "                    background-color: var(--colab-primary-surface-color, white);\n",
       "                }\n",
       "\n",
       "                .geemap-colab .jupyter-button {\n",
       "                    --jp-layout-color3: var(--colab-primary-surface-color, white);\n",
       "                }\n",
       "            </style>\n",
       "            "
      ],
      "text/plain": [
       "<IPython.core.display.HTML object>"
      ]
     },
     "metadata": {},
     "output_type": "display_data"
    },
    {
     "name": "stdout",
     "output_type": "stream",
     "text": [
      "Loading AOI: projects/mapbiomas-workspace/AUXILIAR/brasil_2km\n"
     ]
    }
   ],
   "source": [
    "# --- 2. Define Area of Interest ---\n",
    "print(f\"Loading AOI: {AOI_ASSET_ID}\")\n",
    "aoi_asset = ee.FeatureCollection(AOI_ASSET_ID)\n",
    "aoi_geometry = aoi_asset.union(1) # Merge features into a single geometry"
   ]
  },
  {
   "cell_type": "code",
   "execution_count": 15,
   "id": "35cec958",
   "metadata": {},
   "outputs": [
    {
     "data": {
      "text/html": [
       "\n",
       "            <style>\n",
       "                .geemap-dark {\n",
       "                    --jp-widgets-color: white;\n",
       "                    --jp-widgets-label-color: white;\n",
       "                    --jp-ui-font-color1: white;\n",
       "                    --jp-layout-color2: #454545;\n",
       "                    background-color: #383838;\n",
       "                }\n",
       "\n",
       "                .geemap-dark .jupyter-button {\n",
       "                    --jp-layout-color3: #383838;\n",
       "                }\n",
       "\n",
       "                .geemap-colab {\n",
       "                    background-color: var(--colab-primary-surface-color, white);\n",
       "                }\n",
       "\n",
       "                .geemap-colab .jupyter-button {\n",
       "                    --jp-layout-color3: var(--colab-primary-surface-color, white);\n",
       "                }\n",
       "            </style>\n",
       "            "
      ],
      "text/plain": [
       "<IPython.core.display.HTML object>"
      ]
     },
     "metadata": {},
     "output_type": "display_data"
    },
    {
     "name": "stdout",
     "output_type": "stream",
     "text": [
      "Loading Soil Samples: projects/mapbiomas-workspace/SOLOS/AMOSTRAS/MATRIZES/granulometry/matriz-v010_0_10cm\n",
      "Found and filtered 19864 points within AOI.\n",
      "\n",
      "Preparing visualization of filtered points on AOI...\n",
      "Displaying filtered points map...\n"
     ]
    },
    {
     "data": {
      "application/vnd.jupyter.widget-view+json": {
       "model_id": "b0ac57cd121e470a9bd5d107e10fa17c",
       "version_major": 2,
       "version_minor": 0
      },
      "text/plain": [
       "Map(center=[-10.62347807211283, -53.19353084531423], controls=(WidgetControl(options=['position', 'transparent…"
      ]
     },
     "metadata": {},
     "output_type": "display_data"
    },
    {
     "name": "stdout",
     "output_type": "stream",
     "text": [
      "--- End of points visualization ---\n"
     ]
    }
   ],
   "source": [
    "# --- 3. Load and Filter Soil Samples ---\n",
    "print(f\"Loading Soil Samples: {SOIL_SAMPLES_ID}\")\n",
    "soil_points_all = ee.FeatureCollection(SOIL_SAMPLES_ID)\n",
    "soil_points = soil_points_all.filterBounds(aoi_geometry)\n",
    "point_count = soil_points.size().getInfo() # Get count after filtering\n",
    "print(f\"Found and filtered {point_count} points within AOI.\")\n",
    "\n",
    "# --- 3b. Visualize Filtered Points ---\n",
    "if point_count > 0:\n",
    "    print(\"\\nPreparing visualization of filtered points on AOI...\")\n",
    "    Map_points = geemap.Map()\n",
    "    Map_points.centerObject(aoi_geometry, 5)\n",
    "    Map_points.addLayer(ee.Image().paint(aoi_geometry, 0, 2), {'palette': '000000'}, 'AOI Boundary')\n",
    "    Map_points.addLayer(soil_points, {'color': '0000FF', 'pointSize': 1}, 'Filtered Soil Samples')\n",
    "    Map_points.addLayerControl()\n",
    "    print(\"Displaying filtered points map...\")\n",
    "    display(Map_points)\n",
    "    print(\"--- End of points visualization ---\")\n",
    "else:\n",
    "    print(\"\\nSkipping points visualization as no points were found within the AOI.\")\n",
    "\n",
    "\n",
    "# --- Add constant property (only if points exist) ---\n",
    "if point_count > 0:\n",
    "    def add_constant(feat):\n",
    "      return feat.set({'constant': 1})\n",
    "    soil_points_with_constant = soil_points.map(add_constant)\n",
    "else:\n",
    "    soil_points_with_constant = ee.FeatureCollection([])"
   ]
  },
  {
   "cell_type": "code",
   "execution_count": 16,
   "id": "982230c6",
   "metadata": {},
   "outputs": [
    {
     "data": {
      "text/html": [
       "\n",
       "            <style>\n",
       "                .geemap-dark {\n",
       "                    --jp-widgets-color: white;\n",
       "                    --jp-widgets-label-color: white;\n",
       "                    --jp-ui-font-color1: white;\n",
       "                    --jp-layout-color2: #454545;\n",
       "                    background-color: #383838;\n",
       "                }\n",
       "\n",
       "                .geemap-dark .jupyter-button {\n",
       "                    --jp-layout-color3: #383838;\n",
       "                }\n",
       "\n",
       "                .geemap-colab {\n",
       "                    background-color: var(--colab-primary-surface-color, white);\n",
       "                }\n",
       "\n",
       "                .geemap-colab .jupyter-button {\n",
       "                    --jp-layout-color3: var(--colab-primary-surface-color, white);\n",
       "                }\n",
       "            </style>\n",
       "            "
      ],
      "text/plain": [
       "<IPython.core.display.HTML object>"
      ]
     },
     "metadata": {},
     "output_type": "display_data"
    },
    {
     "name": "stdout",
     "output_type": "stream",
     "text": [
      "\n",
      "Rasterizing points...\n",
      "Reprojecting to CRS: EPSG:5880 with scale 30m\n"
     ]
    }
   ],
   "source": [
    "# --- 4. Prepare Image for Distance Calculation --- (Step 4 is now this)\n",
    "if point_count > 0:\n",
    "    print(\"\\nRasterizing points...\")\n",
    "    # Reproject using the explicitly defined projected CRS\n",
    "    print(f\"Reprojecting to CRS: {TARGET_CRS} with scale {OUTPUT_SCALE}m\")\n",
    "    point_presence_image = soil_points_with_constant.reduceToImage(\n",
    "        properties=['constant'],\n",
    "        reducer=ee.Reducer.sum().unweighted()\n",
    "    ).reproject(\n",
    "        crs=TARGET_CRS, # Use the defined projected CRS\n",
    "        scale=OUTPUT_SCALE\n",
    "    ).unmask(0)\n",
    "    source_image = point_presence_image.gt(0).Not()"
   ]
  },
  {
   "cell_type": "code",
   "execution_count": 17,
   "id": "265cec8e",
   "metadata": {},
   "outputs": [
    {
     "data": {
      "text/html": [
       "\n",
       "            <style>\n",
       "                .geemap-dark {\n",
       "                    --jp-widgets-color: white;\n",
       "                    --jp-widgets-label-color: white;\n",
       "                    --jp-ui-font-color1: white;\n",
       "                    --jp-layout-color2: #454545;\n",
       "                    background-color: #383838;\n",
       "                }\n",
       "\n",
       "                .geemap-dark .jupyter-button {\n",
       "                    --jp-layout-color3: #383838;\n",
       "                }\n",
       "\n",
       "                .geemap-colab {\n",
       "                    background-color: var(--colab-primary-surface-color, white);\n",
       "                }\n",
       "\n",
       "                .geemap-colab .jupyter-button {\n",
       "                    --jp-layout-color3: var(--colab-primary-surface-color, white);\n",
       "                }\n",
       "            </style>\n",
       "            "
      ],
      "text/plain": [
       "<IPython.core.display.HTML object>"
      ]
     },
     "metadata": {},
     "output_type": "display_data"
    },
    {
     "name": "stdout",
     "output_type": "stream",
     "text": [
      "Calculating distance to nearest neighbor...\n",
      "\n",
      "--- Info about 'distance_image' (before clipping) ---\n",
      "Band Names: ['distance']\n",
      "Expected CRS: EPSG:5880\n",
      "Expected Scale (meters): 30\n",
      "----------------------------------------------------\n"
     ]
    }
   ],
   "source": [
    "# --- 5. Calculate Distance & Get Stats --- (Step 5 is now this)\n",
    "print(\"Calculating distance to nearest neighbor...\")\n",
    "neighborhood_pixels = math.ceil(MAX_DISTANCE_METERS / OUTPUT_SCALE)\n",
    "# Since the image is now projected in meters, units='meters' is correct\n",
    "distance_image_multiband = source_image.fastDistanceTransform(\n",
    "    neighborhood=neighborhood_pixels,\n",
    "    units='meters'\n",
    ")\n",
    "distance_image = distance_image_multiband.select('distance')\n",
    "\n",
    "# --- Print basic info ---\n",
    "print(\"\\n--- Info about 'distance_image' (before clipping) ---\")\n",
    "try:\n",
    "    band_names = distance_image.bandNames().getInfo()\n",
    "    print(f\"Band Names: {band_names}\")\n",
    "    # Projection should now match TARGET_CRS\n",
    "    print(f\"Expected CRS: {TARGET_CRS}\")\n",
    "    print(f\"Expected Scale (meters): {OUTPUT_SCALE}\")\n",
    "except Exception as e:\n",
    "    print(f\"Could not retrieve basic info: {e}\")\n",
    "print(\"----------------------------------------------------\")\n",
    "\n",
    "# # --- Calculate and Print Statistics ---\n",
    "# print(\"\\nCalculating statistics for the distance image (within AOI)...\")\n",
    "# stats_reducer = ee.Reducer.minMax() \\\n",
    "#     .combine(ee.Reducer.mean(), sharedInputs=True) \\\n",
    "#     .combine(ee.Reducer.stdDev(), sharedInputs=True) \\\n",
    "#     .combine(ee.Reducer.percentile([50, 90, 95]), sharedInputs=True) \\\n",
    "#     .combine(ee.Reducer.count(), sharedInputs=True)\n",
    "# try:\n",
    "#     stats = distance_image.reduceRegion(\n",
    "#         reducer=stats_reducer,\n",
    "#         geometry=aoi_geometry,\n",
    "#         scale=OUTPUT_SCALE,\n",
    "#         maxPixels=1e11,\n",
    "#         tileScale=4\n",
    "#     )\n",
    "#     stats_info = stats.getInfo()\n",
    "#     print(\"--- Distance Statistics (meters, within AOI) ---\")\n",
    "#     print(f\"Min Distance: {stats_info.get('distance_min', 'N/A'):,.2f}\")\n",
    "#     print(f\"Max Distance: {stats_info.get('distance_max', 'N/A'):,.2f}\")\n",
    "#     print(f\"Mean Distance: {stats_info.get('distance_mean', 'N/A'):,.2f}\")\n",
    "#     print(f\"Std Dev Distance: {stats_info.get('distance_stdDev', 'N/A'):,.2f}\")\n",
    "#     print(f\"Median (P50) Distance: {stats_info.get('distance_p50', 'N/A'):,.2f}\")\n",
    "#     print(f\"90th Percentile Distance: {stats_info.get('distance_p90', 'N/A'):,.2f}\")\n",
    "#     print(f\"95th Percentile Distance: {stats_info.get('distance_p95', 'N/A'):,.2f}\")\n",
    "#     print(f\"Pixel Count in AOI: {stats_info.get('distance_count', 'N/A'):,}\")\n",
    "#     print(\"------------------------------------------------\")\n",
    "# except Exception as e:\n",
    "#     print(f\"Could not calculate statistics: {e}\")\n",
    "#     stats_info = None\n",
    "# --- End Statistics Calculation ---"
   ]
  },
  {
   "cell_type": "code",
   "execution_count": 18,
   "id": "a58cf282",
   "metadata": {},
   "outputs": [
    {
     "data": {
      "text/html": [
       "\n",
       "            <style>\n",
       "                .geemap-dark {\n",
       "                    --jp-widgets-color: white;\n",
       "                    --jp-widgets-label-color: white;\n",
       "                    --jp-ui-font-color1: white;\n",
       "                    --jp-layout-color2: #454545;\n",
       "                    background-color: #383838;\n",
       "                }\n",
       "\n",
       "                .geemap-dark .jupyter-button {\n",
       "                    --jp-layout-color3: #383838;\n",
       "                }\n",
       "\n",
       "                .geemap-colab {\n",
       "                    background-color: var(--colab-primary-surface-color, white);\n",
       "                }\n",
       "\n",
       "                .geemap-colab .jupyter-button {\n",
       "                    --jp-layout-color3: var(--colab-primary-surface-color, white);\n",
       "                }\n",
       "            </style>\n",
       "            "
      ],
      "text/plain": [
       "<IPython.core.display.HTML object>"
      ]
     },
     "metadata": {},
     "output_type": "display_data"
    },
    {
     "name": "stdout",
     "output_type": "stream",
     "text": [
      "\n",
      "Clipping result to AOI...\n"
     ]
    }
   ],
   "source": [
    "# --- 6. Clip Result --- (Step 6 is now this)\n",
    "print(\"\\nClipping result to AOI...\")\n",
    "distance_image_clipped = distance_image.clip(aoi_geometry)"
   ]
  },
  {
   "cell_type": "code",
   "execution_count": 19,
   "id": "5c9909c5",
   "metadata": {},
   "outputs": [
    {
     "data": {
      "text/html": [
       "\n",
       "            <style>\n",
       "                .geemap-dark {\n",
       "                    --jp-widgets-color: white;\n",
       "                    --jp-widgets-label-color: white;\n",
       "                    --jp-ui-font-color1: white;\n",
       "                    --jp-layout-color2: #454545;\n",
       "                    background-color: #383838;\n",
       "                }\n",
       "\n",
       "                .geemap-dark .jupyter-button {\n",
       "                    --jp-layout-color3: #383838;\n",
       "                }\n",
       "\n",
       "                .geemap-colab {\n",
       "                    background-color: var(--colab-primary-surface-color, white);\n",
       "                }\n",
       "\n",
       "                .geemap-colab .jupyter-button {\n",
       "                    --jp-layout-color3: var(--colab-primary-surface-color, white);\n",
       "                }\n",
       "            </style>\n",
       "            "
      ],
      "text/plain": [
       "<IPython.core.display.HTML object>"
      ]
     },
     "metadata": {},
     "output_type": "display_data"
    },
    {
     "name": "stdout",
     "output_type": "stream",
     "text": [
      "\n",
      "Preparing final DNN map visualization...\n",
      "Using default max for visualization: 200,000.00 m\n",
      "Visualizing distances from 0 to 200000 meters.\n",
      "Displaying final DNN map...\n"
     ]
    },
    {
     "data": {
      "application/vnd.jupyter.widget-view+json": {
       "model_id": "821065dea4a44c3981df941daacff67c",
       "version_major": 2,
       "version_minor": 0
      },
      "text/plain": [
       "Map(center=[-10.62347807211283, -53.19353084531423], controls=(WidgetControl(options=['position', 'transparent…"
      ]
     },
     "metadata": {},
     "output_type": "display_data"
    }
   ],
   "source": [
    "# --- 7. Visualize DNN Map --- (Step 7 is now this)\n",
    "\n",
    "# This block assumes the script determined point_count > 0 in earlier steps\n",
    "# and that 'distance_image_clipped' has been calculated.\n",
    "\n",
    "print(\"\\nPreparing final DNN map visualization...\")\n",
    "Map_dnn = geemap.Map() # Create a map object\n",
    "Map_dnn.centerObject(aoi_geometry, 5) # Center on the AOI\n",
    "\n",
    "# --- Determine Visualization Max ---\n",
    "# Use a default max, but adjust based on calculated stats if available\n",
    "vis_max = MAX_DISTANCE_METERS # Default visualization range max\n",
    "# Check if stats were successfully calculated and contain needed keys\n",
    "if 'stats_info' in locals() and stats_info and stats_info.get('distance_max') is not None:\n",
    "  # Optionally cap the visualization max based on stats (e.g., 1.1 * p95)\n",
    "  # to avoid extreme outliers skewing the color scale too much.\n",
    "  p95 = stats_info.get('distance_p95')\n",
    "  # Use the smaller of: calculated max, 1.1*p95 (if p95 exists), 2*default_max\n",
    "  vis_max = min(stats_info.get('distance_max'), p95 * 1.1 if p95 else MAX_DISTANCE_METERS * 1.1, MAX_DISTANCE_METERS * 2)\n",
    "  print(f\"Using calculated max (capped) for visualization: {vis_max:,.2f} m\")\n",
    "else:\n",
    "    # Keep the default if stats are not available\n",
    "    print(f\"Using default max for visualization: {vis_max:,.2f} m\")\n",
    "# --- End Determine Visualization Max ---\n",
    "\n",
    "# Define visualization parameters for the distance layer\n",
    "dnn_vis_params = {\n",
    "  'min': 0,\n",
    "  'max': vis_max, # Use default or adjusted max\n",
    "  'palette': ['0000FF', '00FFFF', 'FFFF00', 'FF0000'] # Blue=Near -> Red=Far\n",
    "}\n",
    "print(f\"Visualizing distances from 0 to {dnn_vis_params['max']} meters.\")\n",
    "\n",
    "# Add the clipped distance image layer\n",
    "Map_dnn.addLayer(\n",
    "    distance_image_clipped,\n",
    "    dnn_vis_params,\n",
    "    f'Distance to Nearest Soil Sample (m)' # Layer name\n",
    ")\n",
    "# Add the AOI boundary layer\n",
    "Map_dnn.addLayer(\n",
    "    ee.Image().paint(aoi_geometry, 0, 2), # Paint outline\n",
    "    {'palette': '000000'}, # Black color\n",
    "    'AOI Boundary' # Layer name\n",
    ")\n",
    "# Add layer controls to the map\n",
    "Map_dnn.addLayerControl()\n",
    "\n",
    "# Display the map in the output cell\n",
    "print(\"Displaying final DNN map...\")\n",
    "display(Map_dnn)\n",
    "\n",
    "# Note: The 'else' block handling point_count == 0 would appear *outside*\n",
    "# this specific step in the full script, wrapping steps 4 through 7."
   ]
  },
  {
   "cell_type": "code",
   "execution_count": 46,
   "id": "37536c00",
   "metadata": {},
   "outputs": [
    {
     "data": {
      "text/html": [
       "\n",
       "            <style>\n",
       "                .geemap-dark {\n",
       "                    --jp-widgets-color: white;\n",
       "                    --jp-widgets-label-color: white;\n",
       "                    --jp-ui-font-color1: white;\n",
       "                    --jp-layout-color2: #454545;\n",
       "                    background-color: #383838;\n",
       "                }\n",
       "\n",
       "                .geemap-dark .jupyter-button {\n",
       "                    --jp-layout-color3: #383838;\n",
       "                }\n",
       "\n",
       "                .geemap-colab {\n",
       "                    background-color: var(--colab-primary-surface-color, white);\n",
       "                }\n",
       "\n",
       "                .geemap-colab .jupyter-button {\n",
       "                    --jp-layout-color3: var(--colab-primary-surface-color, white);\n",
       "                }\n",
       "            </style>\n",
       "            "
      ],
      "text/plain": [
       "<IPython.core.display.HTML object>"
      ]
     },
     "metadata": {},
     "output_type": "display_data"
    },
    {
     "name": "stdout",
     "output_type": "stream",
     "text": [
      "\n",
      "Preparing final DNN map visualization...\n",
      "Visualizing distances from 0 to 200000 meters.\n",
      "Displaying final DNN map...\n"
     ]
    },
    {
     "data": {
      "application/vnd.jupyter.widget-view+json": {
       "model_id": "df8ce906781f4f8198ec9ac911b99e21",
       "version_major": 2,
       "version_minor": 0
      },
      "text/plain": [
       "Map(center=[-10.62347807211283, -53.19353084531423], controls=(WidgetControl(options=['position', 'transparent…"
      ]
     },
     "metadata": {},
     "output_type": "display_data"
    }
   ],
   "source": [
    "# --- 8. Visualize DNN Map ---\n",
    "\n",
    "# Ensure geemap is imported if running this block standalone\n",
    "import geemap\n",
    "\n",
    "# Check if distance_image_clipped likely exists before trying to visualize\n",
    "# (Assumes it was calculated in prior steps if point_count > 0)\n",
    "if 'distance_image_clipped' in locals():\n",
    "    print(\"\\nPreparing final DNN map visualization...\")\n",
    "    # Create a new map object for the final result\n",
    "    Map_dnn = geemap.Map()\n",
    "    # Center the map on the Area of Interest\n",
    "    Map_dnn.centerObject(aoi_geometry, 5)\n",
    "\n",
    "    # Define visualization parameters for the distance map\n",
    "    dnn_vis_params = {\n",
    "      'min': 0,\n",
    "      # Use the configured max distance for the color scale limit\n",
    "      'max': MAX_DISTANCE_METERS,\n",
    "      # Define the color palette (e.g., blue=near, red=far)\n",
    "      'palette': ['0000FF', '00FFFF', 'FFFF00', 'FF0000']\n",
    "    }\n",
    "    print(f\"Visualizing distances from 0 to {dnn_vis_params['max']} meters.\")\n",
    "\n",
    "    # Add the calculated distance layer to the map\n",
    "    Map_dnn.addLayer(\n",
    "        distance_image_clipped,\n",
    "        dnn_vis_params,\n",
    "        f'Distance to Nearest Soil Sample (m)' # Layer name\n",
    "    )\n",
    "    # Add the AOI boundary outline for context\n",
    "    Map_dnn.addLayer(\n",
    "        ee.Image().paint(aoi_geometry, 0, 2), # Paint outline\n",
    "        {'palette': '000000'}, # Black color for outline\n",
    "        'AOI Boundary' # Layer name\n",
    "    )\n",
    "    # Add map layer controls (optional)\n",
    "    Map_dnn.addLayerControl()\n",
    "\n",
    "    # Display the map in the Jupyter Notebook output\n",
    "    print(\"Displaying final DNN map...\")\n",
    "    display(Map_dnn)\n",
    "\n",
    "else:\n",
    "    # This part would typically execute if point_count was 0 in the full script\n",
    "    print(\"\\nSkipping DNN map visualization because the distance image was not generated (likely no input points found).\")"
   ]
  }
 ],
 "metadata": {
  "kernelspec": {
   "display_name": "geemap",
   "language": "python",
   "name": "python3"
  },
  "language_info": {
   "codemirror_mode": {
    "name": "ipython",
    "version": 3
   },
   "file_extension": ".py",
   "mimetype": "text/x-python",
   "name": "python",
   "nbconvert_exporter": "python",
   "pygments_lexer": "ipython3",
   "version": "3.10.12"
  }
 },
 "nbformat": 4,
 "nbformat_minor": 5
}

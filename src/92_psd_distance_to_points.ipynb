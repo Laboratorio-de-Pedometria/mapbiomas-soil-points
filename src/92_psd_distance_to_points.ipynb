{
 "cells": [
  {
   "cell_type": "code",
   "execution_count": null,
   "id": "bb1ca6e5",
   "metadata": {},
   "outputs": [],
   "source": [
    "import ee\n",
    "import geemap\n",
    "import math\n",
    "\n",
    "# --- 1. Define Important Variables ---\n",
    "print(\"--- Defining Key Variables ---\")\n",
    "gcp_project_id = 'mapbiomas-solos-workspace'\n",
    "samples_asset_id = 'projects/mapbiomas-workspace/SOLOS/AMOSTRAS/MATRIZES/granulometry/matriz-v010_0_10cm'\n",
    "brazil_boundary_id = 'projects/mapbiomas-workspace/AUXILIAR/biomas_IBGE_250mil'\n",
    "# Using SIRGAS 2000 / Brazil Albers (EPSG:5880) - More specific to Brazil [1, 2]\n",
    "target_crs = 'EPSG:5880'\n",
    "target_scale = 100  # Meters\n",
    "# Max distance for Euclidean kernel (user specified 200km) [3, 4, 5]\n",
    "max_search_distance_meters = 1000 # 1 km\n",
    "# Bounding box size for Area of Interest (AOI)\n",
    "aoi_bbox_radius_km = 100 # Results in a 100km box\n",
    "\n",
    "print(f\"Google Cloud Project: {gcp_project_id}\")\n",
    "print(f\"Soil Samples Asset ID: {samples_asset_id}\")\n",
    "print(f\"Brazil Boundary Asset ID: {brazil_boundary_id}\")\n",
    "print(f\"Target CRS: {target_crs}\")\n",
    "print(f\"Target Scale: {target_scale} meters\")\n",
    "print(f\"Max Search Distance: {max_search_distance_meters} meters\")\n",
    "print(f\"AOI Radius: {aoi_bbox_radius_km} km\")"
   ]
  },
  {
   "cell_type": "code",
   "execution_count": null,
   "id": "9dc6f1b9",
   "metadata": {},
   "outputs": [],
   "source": [
    "# --- 2. Setup: Initialize Earth Engine ---\n",
    "print(\"\\n--- Initializing Earth Engine ---\")\n",
    "try:\n",
    "    # Attempt initializing with the specified project\n",
    "    ee.Initialize(project=gcp_project_id)\n",
    "    print(f'Google Earth Engine Initialized Successfully for project: {gcp_project_id}')\n",
    "except ee.EEException as e:\n",
    "    print(f'Google Earth Engine initialization failed for project {gcp_project_id}: {e}')\n",
    "    print('Attempting authentication and default initialization...')\n",
    "    try:\n",
    "        ee.Authenticate()\n",
    "        ee.Initialize()\n",
    "        print('Authenticated and initialized with default project.')\n",
    "    except Exception as auth_e:\n",
    "        print(f\"Authentication/Initialization failed: {auth_e}\")\n",
    "        # Handle error appropriately, maybe exit\n",
    "except Exception as e:\n",
    "    print(f\"An unexpected error occurred during initialization: {e}\")\n",
    "    # Handle other potential exceptions if necessary"
   ]
  },
  {
   "cell_type": "code",
   "execution_count": null,
   "id": "ee71a4ec",
   "metadata": {},
   "outputs": [],
   "source": [
    "# --- 3. Load Data and Define Area of Interest (AOI) ---\n",
    "print(\"\\n--- Loading Data and Defining AOI ---\")\n",
    "\n",
    "# Load Soil Sample Points using the defined asset ID\n",
    "try:\n",
    "    samples_full = ee.FeatureCollection(samples_asset_id)\n",
    "    print(f\"Successfully loaded full soil samples dataset from: {samples_asset_id}\")\n",
    "    print(f\"Total number of sample points: {samples_full.size().getInfo()}\")\n",
    "except Exception as e:\n",
    "    print(f\"Error loading soil samples from '{samples_asset_id}'. Error: {e}\")\n",
    "    # Handle error appropriately, maybe exit\n",
    "\n",
    "# Load Brazil Boundary using the defined asset ID and dissolve it\n",
    "try:\n",
    "    brazil_fc = ee.FeatureCollection(brazil_boundary_id)\n",
    "    # Dissolve the geometries if it's a multi-feature collection (e.g., biomes) [6]\n",
    "    brazil_geometry = brazil_fc.geometry().dissolve(maxError=1)\n",
    "    # Create a single feature for consistent use (optional but good practice)\n",
    "    brazil = ee.FeatureCollection(ee.Feature(brazil_geometry, {}))\n",
    "    print(f\"Successfully loaded and dissolved Brazil boundary from: {brazil_boundary_id}\")\n",
    "except Exception as e:\n",
    "    print(f\"Error loading or dissolving Brazil boundary from '{brazil_boundary_id}': {e}\")\n",
    "    # Handle error appropriately, maybe exit\n",
    "\n",
    "# --- Define AOI: 1000km Rectangle around Brazil's Center ---\n",
    "# Get the centroid of the dissolved Brazil geometry\n",
    "brazil_centroid = brazil_geometry.centroid(maxError=1)\n",
    "\n",
    "# Buffer the centroid by the defined radius to get the desired diameter area [7, 8, 9, 10]\n",
    "# Then get the bounding box of that circle, specifying the target CRS\n",
    "buffer_radius_meters = aoi_bbox_radius_km * 1000\n",
    "aoi_rectangle = brazil_centroid.buffer(buffer_radius_meters, maxError=1).bounds(proj=target_crs, maxError=1) # Using EPSG:5880\n",
    "print(f\"Defined {aoi_bbox_radius_km*2}km x {aoi_bbox_radius_km*2}km AOI rectangle around Brazil's centroid.\")\n",
    "\n",
    "# --- Filter Sample Points to AOI ---\n",
    "# Filter points to only those within the AOI rectangle for efficiency [19]\n",
    "samples_aoi = samples_full.filterBounds(aoi_rectangle)\n",
    "print(f\"Number of sample points within AOI: {samples_aoi.size().getInfo()}\")\n",
    "\n",
    "# --- Plot Initial Data within AOI ---\n",
    "map1 = geemap.Map()\n",
    "map1.centerObject(aoi_rectangle, 6) # Center map on the AOI\n",
    "map1.addLayer(brazil, {'color': 'gray'}, 'Brazil Boundary (Dissolved)', False) # Show full boundary for context, initially off\n",
    "map1.addLayer(aoi_rectangle, {'color': 'yellow', 'fillColor': '00000000'}, 'AOI Rectangle') # Show AOI boundary\n",
    "map1.addLayer(samples_aoi, {'color': 'red', 'pointSize': 1}, 'Soil Sample Points (within AOI)')\n",
    "print(\"Plotting initial data (AOI, filtered sample points)...\")\n",
    "display(map1)"
   ]
  },
  {
   "cell_type": "code",
   "execution_count": null,
   "id": "35cec958",
   "metadata": {},
   "outputs": [],
   "source": [
    "# --- 4. Rasterize Points within AOI ---\n",
    "print(\"\\n--- Rasterizing Points within AOI ---\")\n",
    "# Create an empty image, cast to byte\n",
    "empty_image = ee.Image(0).byte()\n",
    "\n",
    "# Paint the FILTERED sample points onto the image with value 1 [12, 13, 14]\n",
    "# This image ('presence_image_painted') inherits the default projection (likely WGS84)\n",
    "presence_image_painted = empty_image.paint(\n",
    "    featureCollection=samples_aoi, # Use filtered points\n",
    "    color=1 # Assigns the pixel value 1 where points exist\n",
    ")\n",
    "\n",
    "# Explicitly reproject the painted image to the target CRS and scale. [15, 16, 17, 6, 18, 19]\n",
    "# THIS IS CRUCIAL for the accuracy of the distance calculation.\n",
    "presence_image_proj = presence_image_painted.reproject(\n",
    "    crs=target_crs, # Using EPSG:5880 now\n",
    "    scale=target_scale\n",
    ")\n",
    "\n",
    "# Clip the projected presence image to the AOI rectangle [11, 20, 10]\n",
    "# This ensures the distance calculation only considers this area.\n",
    "# This 'presence_image_aoi' IS correctly projected and clipped.\n",
    "presence_image_aoi = presence_image_proj.clip(aoi_rectangle)\n",
    "\n",
    "# Optional: Unmask to ensure background is explicitly 0 (good practice) [21, 8]\n",
    "presence_image_aoi = presence_image_aoi.unmask(0)\n",
    "\n",
    "# --- Plot Rasterized Points (Visualization Only) ---\n",
    "map2 = geemap.Map()\n",
    "map2.centerObject(aoi_rectangle, 6)\n",
    "map2.addLayer(aoi_rectangle, {'color': 'yellow', 'fillColor': '00000000'}, 'AOI Rectangle')\n",
    "# --- VISUALIZATION WORKAROUND ---\n",
    "# Display the UNPROJECTED painted image ('presence_image_painted'), clipped,\n",
    "# for visualization to avoid the CRS parsing error in geemap display.\n",
    "map2.addLayer(\n",
    "    presence_image_painted.clip(aoi_rectangle), # Use UNPROJECTED image here\n",
    "    {'palette': ['000000', 'FFFFFF'], 'min': 0, 'max': 1}, # Black background, White points\n",
    "    'Rasterized Points (Painted, Visualization Only)'\n",
    ")\n",
    "print(\"Plotting rasterized points (painted image for visualization)...\")\n",
    "print(\"Note: The image used for the actual distance calculation IS reprojected and clipped.\")\n",
    "display(map2)"
   ]
  },
  {
   "cell_type": "code",
   "execution_count": 11,
   "id": "982230c6",
   "metadata": {},
   "outputs": [
    {
     "data": {
      "text/html": [
       "\n",
       "            <style>\n",
       "                .geemap-dark {\n",
       "                    --jp-widgets-color: white;\n",
       "                    --jp-widgets-label-color: white;\n",
       "                    --jp-ui-font-color1: white;\n",
       "                    --jp-layout-color2: #454545;\n",
       "                    background-color: #383838;\n",
       "                }\n",
       "\n",
       "                .geemap-dark .jupyter-button {\n",
       "                    --jp-layout-color3: #383838;\n",
       "                }\n",
       "\n",
       "                .geemap-colab {\n",
       "                    background-color: var(--colab-primary-surface-color, white);\n",
       "                }\n",
       "\n",
       "                .geemap-colab .jupyter-button {\n",
       "                    --jp-layout-color3: var(--colab-primary-surface-color, white);\n",
       "                }\n",
       "            </style>\n",
       "            "
      ],
      "text/plain": [
       "<IPython.core.display.HTML object>"
      ]
     },
     "metadata": {},
     "output_type": "display_data"
    },
    {
     "name": "stdout",
     "output_type": "stream",
     "text": [
      "\n",
      "--- Calculating Euclidean Distance within AOI ---\n",
      "Distance calculation initiated within AOI with max distance: 1000 m\n",
      "{'type': 'Image', 'bands': [{'id': 'distance_m', 'data_type': {'type': 'PixelType', 'precision': 'double'}, 'dimensions': [2005, 1992], 'origin': [49891, -89250], 'crs': 'EPSG:5880', 'crs_transform': [100, 0, 0, 0, -100, 0]}]}\n",
      "Maximum distance value in the image: 1.4142135623730951 km\n"
     ]
    }
   ],
   "source": [
    "# --- 5. Calculate Euclidean Distance, Convert to Integer, and Compute Statistics ---\n",
    "print(\"\\n--- Calculating Euclidean Distance within AOI ---\")\n",
    "# Define the Euclidean kernel using the predefined variable [1, 2, 3]\n",
    "euclidean_kernel = ee.Kernel.euclidean(max_search_distance_meters, 'meters')\n",
    "\n",
    "# Calculate Euclidean distance using the CORRECTLY PROJECTED and CLIPPED 'presence_image_aoi' [1, 4, 2, 3]\n",
    "# skipMasked=False ensures distance is calculated for all pixels (0-value pixels) within the AOI [1, 4, 2, 3]\n",
    "distance_image_aoi = presence_image_aoi.distance(\n",
    "    kernel=euclidean_kernel,\n",
    "    skipMasked=False\n",
    ")\n",
    "\n",
    "# Rename the output band for clarity\n",
    "distance_image_aoi = distance_image_aoi.rename('distance_m')\n",
    "print(f\"Distance calculation initiated within AOI with max distance: {max_search_distance_meters} m\")\n",
    "\n",
    "# --- Convert Distance Image to Integer ---\n",
    "# print(\"\\n--- Converting Distance Image to Integer ---\")\n",
    "# Convert the floating-point distance image to integer [10]\n",
    "# distance_image_aoi_int = distance_image_aoi_float.int()\n",
    "# Rename the band to reflect integer type (optional but good practice)\n",
    "# distance_image_aoi_int = distance_image_aoi_int.rename('distance_m_int')\n",
    "# print(\"Distance image converted to integer type.\")\n",
    "# print image info\n",
    "print(distance_image_aoi.getInfo())\n",
    "# Get the maximum distance value for statistics\n",
    "max_distance_value = distance_image_aoi.reduceRegion(\n",
    "    reducer=ee.Reducer.max(),\n",
    "    geometry=aoi_rectangle,\n",
    "    scale=target_scale,\n",
    "    maxPixels=1e13\n",
    ").get('distance_m')\n",
    "# Convert to kilometers for easier interpretation\n",
    "max_distance_value_km = ee.Number(max_distance_value).divide(1000)\n",
    "print(f\"Maximum distance value in the image: {max_distance_value_km.getInfo()} km\")"
   ]
  },
  {
   "cell_type": "code",
   "execution_count": 15,
   "id": "265cec8e",
   "metadata": {},
   "outputs": [
    {
     "data": {
      "text/html": [
       "\n",
       "            <style>\n",
       "                .geemap-dark {\n",
       "                    --jp-widgets-color: white;\n",
       "                    --jp-widgets-label-color: white;\n",
       "                    --jp-ui-font-color1: white;\n",
       "                    --jp-layout-color2: #454545;\n",
       "                    background-color: #383838;\n",
       "                }\n",
       "\n",
       "                .geemap-dark .jupyter-button {\n",
       "                    --jp-layout-color3: #383838;\n",
       "                }\n",
       "\n",
       "                .geemap-colab {\n",
       "                    background-color: var(--colab-primary-surface-color, white);\n",
       "                }\n",
       "\n",
       "                .geemap-colab .jupyter-button {\n",
       "                    --jp-layout-color3: var(--colab-primary-surface-color, white);\n",
       "                }\n",
       "            </style>\n",
       "            "
      ],
      "text/plain": [
       "<IPython.core.display.HTML object>"
      ]
     },
     "metadata": {},
     "output_type": "display_data"
    },
    {
     "name": "stdout",
     "output_type": "stream",
     "text": [
      "\n",
      "--- Plotting Final Distance Map (200km AOI Rectangle) ---\n"
     ]
    },
    {
     "data": {
      "application/vnd.jupyter.widget-view+json": {
       "model_id": "8f056cb4b320412fbc0e5cfa11e44a1c",
       "version_major": 2,
       "version_minor": 0
      },
      "text/plain": [
       "Map(center=[-10.620459268750809, -53.18366993910496], controls=(WidgetControl(options=['position', 'transparen…"
      ]
     },
     "metadata": {},
     "output_type": "display_data"
    },
    {
     "name": "stdout",
     "output_type": "stream",
     "text": [
      "\n",
      "--- Workflow Complete ---\n",
      "The final map shows the distance (in meters) to the nearest soil sample point,\n",
      "calculated *only* within the 200km x 200km AOI rectangle centered on Brazil.\n",
      "Note: The map layer is displayed reprojected to WGS84 for compatibility.\n"
     ]
    }
   ],
   "source": [
    "# --- 6. Final Plot (Distance within AOI) ---\n",
    "print(f\"\\n--- Plotting Final Distance Map ({aoi_bbox_radius_km*2}km AOI Rectangle) ---\")\n",
    "map_final = geemap.Map()\n",
    "map_final.centerObject(aoi_rectangle, 6) # Center map on the AOI\n",
    "\n",
    "# Define visualization parameters for distance\n",
    "dist_vis_params = {\n",
    "    'min': 0,\n",
    "    'max': max_search_distance_meters, # Visualize up to the max search distance\n",
    "    'palette': ['0000FF', '00FFFF', 'FFFF00', 'FF0000'] # Blue (near) to Red (far)\n",
    "}\n",
    "\n",
    "# Add the AOI bounding box outline for reference\n",
    "map_final.addLayer(\n",
    "    aoi_rectangle,\n",
    "    {'color': 'yellow', 'fillColor': '00000000'}, # Make fill transparent\n",
    "    f'{aoi_bbox_radius_km*2}km AOI Bounding Box',\n",
    "    True # Keep visible\n",
    ")\n",
    "\n",
    "# --- Reproject for Visualization ---\n",
    "# Reproject the distance image to WGS84 (EPSG:4326) ONLY for map display [1, 2]\n",
    "# This does not change the underlying 'distance_image_aoi' variable used for calculation.\n",
    "# distance_image_viz = distance_image_aoi.reproject(\n",
    "#   crs='EPSG:3857', # Switch to Web Mercator for visualization\n",
    "#   scale=target_scale # Keep original scale for reprojection basis\n",
    "# )\n",
    "# print(\"Reprojecting distance map to WGS84 for visualization purposes...\")\n",
    "\n",
    "# Add the REPROJECTED final distance map\n",
    "map_final.addLayer(\n",
    "    # distance_image_viz, # Use the WGS84 reprojected version for display\n",
    "    distance_image_aoi,\n",
    "    dist_vis_params,\n",
    "    f'Distance (m) - {aoi_bbox_radius_km*2}km AOI (WGS84 Viz)' # Updated layer name\n",
    ")\n",
    "\n",
    "# Add a color bar legend\n",
    "map_final.add_colorbar(dist_vis_params, label=\"Distance to Nearest Point (m)\")\n",
    "\n",
    "display(map_final)\n",
    "\n",
    "print(\"\\n--- Workflow Complete ---\")\n",
    "print(\"The final map shows the distance (in meters) to the nearest soil sample point,\")\n",
    "print(f\"calculated *only* within the {aoi_bbox_radius_km*2}km x {aoi_bbox_radius_km*2}km AOI rectangle centered on Brazil.\")\n",
    "print(\"Note: The map layer is displayed reprojected to WGS84 for compatibility.\")"
   ]
  },
  {
   "cell_type": "code",
   "execution_count": 13,
   "id": "be0b7478",
   "metadata": {},
   "outputs": [
    {
     "data": {
      "text/html": [
       "\n",
       "            <style>\n",
       "                .geemap-dark {\n",
       "                    --jp-widgets-color: white;\n",
       "                    --jp-widgets-label-color: white;\n",
       "                    --jp-ui-font-color1: white;\n",
       "                    --jp-layout-color2: #454545;\n",
       "                    background-color: #383838;\n",
       "                }\n",
       "\n",
       "                .geemap-dark .jupyter-button {\n",
       "                    --jp-layout-color3: #383838;\n",
       "                }\n",
       "\n",
       "                .geemap-colab {\n",
       "                    background-color: var(--colab-primary-surface-color, white);\n",
       "                }\n",
       "\n",
       "                .geemap-colab .jupyter-button {\n",
       "                    --jp-layout-color3: var(--colab-primary-surface-color, white);\n",
       "                }\n",
       "            </style>\n",
       "            "
      ],
      "text/plain": [
       "<IPython.core.display.HTML object>"
      ]
     },
     "metadata": {},
     "output_type": "display_data"
    },
    {
     "name": "stdout",
     "output_type": "stream",
     "text": [
      "Export task started. Task ID: 3JOCABKGM77AEYZUR4S4YD2Y\n",
      "You can monitor the task status in the Google Earth Engine Code Editor 'Tasks' tab,\n",
      "or check task.status() periodically.\n"
     ]
    }
   ],
   "source": [
    "# --- Define Export Parameters ---\n",
    "export_params = {\n",
    "    'image': distance_image_viz,\n",
    "    'description': 'ASR distance_image_export_to_drive', # A unique name for the task\n",
    "    'folder': 'Earth Engine Exports',  # Optional: The folder in your Google Drive\n",
    "    'fileNamePrefix': 'distance_image_aoi', # Optional: Prefix for the filename\n",
    "    'region': aoi_rectangle,          # The geometry defining the export area\n",
    "    # 'scale': 30,                     # Resolution in meters. Adjust as needed!\n",
    "    'scale': distance_image_aoi.projection().nominalScale(), # Optional: Use the image's native scale\n",
    "                                     # Use image.projection().nominalScale()\n",
    "                                     # if you want the native resolution.\n",
    "    'crs': 'EPSG:4326',              # Optional: Coordinate Reference System (e.g., WGS84)\n",
    "    'maxPixels': 1e10                # Optional: Increase if needed for large exports\n",
    "    # 'fileFormat': 'GeoTIFF'        # Optional: Default is GeoTIFF, others like 'TFRecord' available\n",
    "}\n",
    "\n",
    "# --- Start the Export Task ---\n",
    "task = ee.batch.Export.image.toDrive(**export_params)\n",
    "task.start()\n",
    "\n",
    "# --- Monitor the Task ---\n",
    "print(f\"Export task started. Task ID: {task.id}\")\n",
    "print(\"You can monitor the task status in the Google Earth Engine Code Editor 'Tasks' tab,\")\n",
    "print(\"or check task.status() periodically.\")\n",
    "\n",
    "# Example of checking status (optional):\n",
    "# import time\n",
    "# while task.active():\n",
    "#   print('Polling for task (id: {}).'.format(task.id))\n",
    "#   time.sleep(30)\n",
    "# print('Task status:', task.status())\n",
    "\n",
    "\n"
   ]
  },
  {
   "cell_type": "code",
   "execution_count": 14,
   "id": "c41b1762",
   "metadata": {},
   "outputs": [
    {
     "data": {
      "text/html": [
       "\n",
       "            <style>\n",
       "                .geemap-dark {\n",
       "                    --jp-widgets-color: white;\n",
       "                    --jp-widgets-label-color: white;\n",
       "                    --jp-ui-font-color1: white;\n",
       "                    --jp-layout-color2: #454545;\n",
       "                    background-color: #383838;\n",
       "                }\n",
       "\n",
       "                .geemap-dark .jupyter-button {\n",
       "                    --jp-layout-color3: #383838;\n",
       "                }\n",
       "\n",
       "                .geemap-colab {\n",
       "                    background-color: var(--colab-primary-surface-color, white);\n",
       "                }\n",
       "\n",
       "                .geemap-colab .jupyter-button {\n",
       "                    --jp-layout-color3: var(--colab-primary-surface-color, white);\n",
       "                }\n",
       "            </style>\n",
       "            "
      ],
      "text/plain": [
       "<IPython.core.display.HTML object>"
      ]
     },
     "metadata": {},
     "output_type": "display_data"
    },
    {
     "data": {
      "text/plain": [
       "{'state': 'RUNNING',\n",
       " 'description': 'ASR distance_image_export_to_drive',\n",
       " 'priority': 100,\n",
       " 'creation_timestamp_ms': 1745979339181,\n",
       " 'update_timestamp_ms': 1745979341715,\n",
       " 'start_timestamp_ms': 1745979341680,\n",
       " 'task_type': 'EXPORT_IMAGE',\n",
       " 'attempt': 1,\n",
       " 'id': '3JOCABKGM77AEYZUR4S4YD2Y',\n",
       " 'name': 'projects/mapbiomas-solos-workspace/operations/3JOCABKGM77AEYZUR4S4YD2Y'}"
      ]
     },
     "execution_count": 14,
     "metadata": {},
     "output_type": "execute_result"
    }
   ],
   "source": [
    "task.status()"
   ]
  }
 ],
 "metadata": {
  "kernelspec": {
   "display_name": "geemap",
   "language": "python",
   "name": "python3"
  },
  "language_info": {
   "codemirror_mode": {
    "name": "ipython",
    "version": 3
   },
   "file_extension": ".py",
   "mimetype": "text/x-python",
   "name": "python",
   "nbconvert_exporter": "python",
   "pygments_lexer": "ipython3",
   "version": "3.10.12"
  }
 },
 "nbformat": 4,
 "nbformat_minor": 5
}
